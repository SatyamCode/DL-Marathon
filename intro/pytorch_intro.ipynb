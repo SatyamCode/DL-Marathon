{
 "cells": [
  {
   "cell_type": "code",
   "execution_count": 1,
   "metadata": {},
   "outputs": [],
   "source": [
    "# importing pytorch\n",
    "import torch"
   ]
  },
  {
   "cell_type": "code",
   "execution_count": 2,
   "metadata": {},
   "outputs": [
    {
     "name": "stdout",
     "output_type": "stream",
     "text": [
      "tensor([0., 0., 0., 0., 0.])\n",
      "tensor([1., 1., 1., 1., 1.])\n",
      "tensor([ 0.7698,  0.9093, -1.0657,  0.9910,  1.2465])\n"
     ]
    }
   ],
   "source": [
    "# creating a tensor\n",
    "\n",
    "# zero tensor\n",
    "zeros = torch.zeros(5)\n",
    "print(zeros)\n",
    "# ones\n",
    "ones = torch.ones(5)\n",
    "print(ones)\n",
    "# random normal\n",
    "random = torch.randn(5)\n",
    "print(random)"
   ]
  },
  {
   "cell_type": "code",
   "execution_count": 3,
   "metadata": {},
   "outputs": [
    {
     "name": "stdout",
     "output_type": "stream",
     "text": [
      "tensor([[ 1.9233, -0.8106,  0.6584],\n",
      "        [ 0.6597, -1.2530, -0.4327],\n",
      "        [ 0.4783, -0.5771, -0.0269]])\n",
      "tensor([[[ 1.2619,  0.3887, -0.4687],\n",
      "         [ 1.4697, -0.6286,  0.2429],\n",
      "         [ 0.6868, -1.9214,  0.0605]],\n",
      "\n",
      "        [[-2.5104, -0.4840, -0.5174],\n",
      "         [ 1.2955, -1.1368, -1.1250],\n",
      "         [ 2.7244, -0.9953,  0.9325]],\n",
      "\n",
      "        [[-1.5886, -0.0409,  0.7821],\n",
      "         [-0.5646,  0.7727,  0.0782],\n",
      "         [ 0.7847,  1.2497,  1.0294]]])\n"
     ]
    }
   ],
   "source": [
    "# multi dimenstional tensors\n",
    "\n",
    "# 2D\n",
    "two_dim = torch.randn((3, 3))\n",
    "print(two_dim)\n",
    "# 3D \n",
    "three_dim = torch.randn((3, 3, 3))\n",
    "print(three_dim)"
   ]
  },
  {
   "cell_type": "code",
   "execution_count": 4,
   "metadata": {},
   "outputs": [
    {
     "name": "stdout",
     "output_type": "stream",
     "text": [
      "torch.Size([5])\n",
      "torch.Size([3, 3])\n",
      "torch.Size([3, 3, 3])\n",
      "tensor([1.9233, 0.6597, 0.4783])\n",
      "tensor([ 1.9233, -0.8106,  0.6584])\n"
     ]
    }
   ],
   "source": [
    "# tensor shapes and axes\n",
    "\n",
    "print(zeros.shape)\n",
    "print(two_dim.shape)\n",
    "print(three_dim.shape)\n",
    "\n",
    "# zeroth axis - rows\n",
    "print(two_dim[:, 0])\n",
    "# first axis - columns\n",
    "print(two_dim[0, :])"
   ]
  },
  {
   "cell_type": "code",
   "execution_count": 5,
   "metadata": {},
   "outputs": [
    {
     "name": "stdout",
     "output_type": "stream",
     "text": [
      "tensor([[-0.1868,  0.4295,  0.8603, -0.0783],\n",
      "        [ 0.6401, -0.2413, -1.3171,  0.1292],\n",
      "        [ 0.7007, -0.0085, -2.4723, -0.5202]])\n",
      "tensor([[-0.1868,  0.4295,  0.8603, -0.0783,  0.6401, -0.2413],\n",
      "        [-1.3171,  0.1292,  0.7007, -0.0085, -2.4723, -0.5202]])\n",
      "tensor(0.8603)\n",
      "tensor(-0.1721)\n",
      "tensor([0.7007, 0.4295, 0.8603, 0.1292]) tensor([2, 0, 0, 1])\n",
      "tensor([0.8603, 0.6401, 0.7007]) tensor([2, 0, 0])\n"
     ]
    }
   ],
   "source": [
    "# some other operations\n",
    "\n",
    "# reshape\n",
    "a = torch.randn((3, 4))\n",
    "print(a)\n",
    "a_reshaped = a.view(2, 6)\n",
    "print(a_reshaped)\n",
    "\n",
    "# reshape with -1\n",
    "a_reshaped = a.view(4, -1)\n",
    "a_reshaped = a.view(-1)\n",
    "\n",
    "# max, mean\n",
    "val = torch.max(a)\n",
    "print(val)\n",
    "a_mean = torch.mean(a)\n",
    "print(a_mean)\n",
    "\n",
    "# along various axes\n",
    "val, ind = torch.max(a, dim=0)\n",
    "print(val, ind)\n",
    "val, ind = torch.max(a, dim=1)\n",
    "print(val, ind)"
   ]
  },
  {
   "cell_type": "code",
   "execution_count": 6,
   "metadata": {},
   "outputs": [
    {
     "name": "stdout",
     "output_type": "stream",
     "text": [
      "cpu\n",
      "cuda:0\n"
     ]
    }
   ],
   "source": [
    "# cpu-gpu\n",
    "a = torch.randn((3, 4))\n",
    "print(a.device)\n",
    "\n",
    "device = torch.device(\"cuda\")\n",
    "a = a.to(device)\n",
    "print(a.device)\n",
    "\n",
    "# a more generic code\n",
    "device = torch.device('cuda' if torch.cuda.is_available() else 'cpu')"
   ]
  },
  {
   "cell_type": "code",
   "execution_count": 7,
   "metadata": {},
   "outputs": [
    {
     "name": "stdout",
     "output_type": "stream",
     "text": [
      "<class 'numpy.ndarray'>\n",
      "<class 'torch.Tensor'>\n"
     ]
    }
   ],
   "source": [
    "# torch to numpy\n",
    "\n",
    "a = a.cpu().numpy()\n",
    "print(type(a))\n",
    "\n",
    "# numpy to torch\n",
    "import numpy as np\n",
    "a = np.ones((3, 3))\n",
    "a = torch.from_numpy(a)\n",
    "print(type(a))"
   ]
  },
  {
   "cell_type": "code",
   "execution_count": 8,
   "metadata": {},
   "outputs": [
    {
     "name": "stdout",
     "output_type": "stream",
     "text": [
      "tensor(2.)\n",
      "tensor(1.)\n",
      "tensor(1.)\n"
     ]
    }
   ],
   "source": [
    "# basic back prop\n",
    "\n",
    "# Create tensors.\n",
    "x = torch.tensor(1., requires_grad=True)\n",
    "w = torch.tensor(2., requires_grad=True)\n",
    "b = torch.tensor(3., requires_grad=True)\n",
    "\n",
    "# Build a computational graph.\n",
    "y = w * x + b    # y = 2 * x + 3\n",
    "\n",
    "# Compute gradients.\n",
    "y.backward()\n",
    "\n",
    "# Print out the gradients.\n",
    "print(x.grad)    # x.grad = 2 (w)\n",
    "print(w.grad)    # w.grad = 1 (x)\n",
    "print(b.grad)    # b.grad = 1 (1)"
   ]
  },
  {
   "cell_type": "code",
   "execution_count": 9,
   "metadata": {},
   "outputs": [
    {
     "name": "stdout",
     "output_type": "stream",
     "text": [
      "Linear(in_features=3, out_features=3, bias=True)\n"
     ]
    }
   ],
   "source": [
    "# defining layers\n",
    "\n",
    "import torch.nn as nn\n",
    "\n",
    "layer1 = nn.Linear(3, 3)\n",
    "print(layer1)"
   ]
  },
  {
   "cell_type": "code",
   "execution_count": 10,
   "metadata": {},
   "outputs": [
    {
     "name": "stdout",
     "output_type": "stream",
     "text": [
      "w:  Parameter containing:\n",
      "tensor([[ 0.1921, -0.0865, -0.5248],\n",
      "        [-0.0609,  0.5417, -0.1734]], requires_grad=True)\n",
      "b:  Parameter containing:\n",
      "tensor([0.1439, 0.0565], requires_grad=True)\n",
      "loss:  1.0405319929122925\n",
      "dL/dw:  tensor([[ 0.6339, -0.0551, -0.1791],\n",
      "        [ 0.1828,  0.9365,  0.3614]])\n",
      "dL/db:  tensor([-0.1240, -0.1435])\n",
      "loss after 1 step optimization:  1.0255013704299927\n"
     ]
    }
   ],
   "source": [
    "# Create tensors of shape (10, 3) and (10, 2).\n",
    "x = torch.randn(10, 3)\n",
    "y = torch.randn(10, 2)\n",
    "\n",
    "# Build a fully connected layer.\n",
    "linear = nn.Linear(3, 2)\n",
    "print ('w: ', linear.weight)\n",
    "print ('b: ', linear.bias)\n",
    "\n",
    "# Build loss function and optimizer.\n",
    "criterion = nn.MSELoss()\n",
    "optimizer = torch.optim.SGD(linear.parameters(), lr=0.01)\n",
    "\n",
    "# Forward pass.\n",
    "pred = linear(x)\n",
    "\n",
    "# Compute loss.\n",
    "loss = criterion(pred, y)\n",
    "print('loss: ', loss.item())\n",
    "\n",
    "# Backward pass.\n",
    "loss.backward()\n",
    "\n",
    "# Print out the gradients.\n",
    "print ('dL/dw: ', linear.weight.grad) \n",
    "print ('dL/db: ', linear.bias.grad)\n",
    "\n",
    "# 1-step gradient descent.\n",
    "optimizer.step()\n",
    "\n",
    "# Print out the loss after 1-step gradient descent.\n",
    "pred = linear(x)\n",
    "loss = criterion(pred, y)\n",
    "print('loss after 1 step optimization: ', loss.item())"
   ]
  },
  {
   "cell_type": "code",
   "execution_count": 11,
   "metadata": {},
   "outputs": [
    {
     "name": "stdout",
     "output_type": "stream",
     "text": [
      "Files already downloaded and verified\n"
     ]
    },
    {
     "data": {
      "image/png": "[encoded data removed]",
      "text/plain": [
       "<Figure size 432x288 with 1 Axes>"
      ]
     },
     "metadata": {
      "needs_background": "light"
     },
     "output_type": "display_data"
    },
    {
     "name": "stdout",
     "output_type": "stream",
     "text": [
      "torch.Size([3, 32, 32])\n",
      "0\n"
     ]
    }
   ],
   "source": [
    "from torchvision import datasets, transforms\n",
    "\n",
    "# use existing datasets\n",
    "# Download and construct CIFAR-10 dataset.\n",
    "val_dataset = datasets.CIFAR10(\n",
    "    root='./data/', \n",
    "    train=False, \n",
    "    transform=transforms.ToTensor(), \n",
    "    download=True\n",
    ")\n",
    "\n",
    "# Fetch one data pair (read data from disk).\n",
    "image, label = val_dataset[10]\n",
    "import matplotlib.pyplot as plt\n",
    "plt.imshow(image.permute(1, 2, 0).numpy())\n",
    "plt.show()\n",
    "print(image.shape)\n",
    "print(label)"
   ]
  },
  {
   "cell_type": "code",
   "execution_count": 12,
   "metadata": {},
   "outputs": [
    {
     "name": "stdout",
     "output_type": "stream",
     "text": [
      "torch.Size([64, 3, 32, 32]) torch.Size([64])\n",
      "torch.Size([64, 3, 32, 32]) torch.Size([64])\n"
     ]
    }
   ],
   "source": [
    "from torch.utils.data import DataLoader\n",
    "# Data loader (this provides queues and threads in a very simple way).\n",
    "loader = torch.utils.data.DataLoader(\n",
    "    dataset=val_dataset,\n",
    "    batch_size=64, \n",
    "    shuffle=True\n",
    ")\n",
    "\n",
    "# how data is loaded in the backend\n",
    "# When iteration starts, queue and thread start to load data from files.\n",
    "data_iter = iter(loader)\n",
    "# Mini-batch images and labels.\n",
    "images, labels = data_iter.next()\n",
    "print(images.shape, labels.shape)\n",
    "\n",
    "# Usage of the data loader is as below.\n",
    "for images, labels in loader:\n",
    "    # Training code should be written here.\n",
    "    print(images.shape, labels.shape)\n",
    "    break"
   ]
  },
  {
   "cell_type": "code",
   "execution_count": null,
   "metadata": {
    "scrolled": true
   },
   "outputs": [],
   "source": [
    "from torch.utils.data import Dataset\n",
    "\n",
    "# Defining a custom dataset\n",
    "class CustomDataset(Dataset):\n",
    "    def __init__(self):\n",
    "        # 1. Initialize file paths or a list of file names. \n",
    "        pass\n",
    "    def __getitem__(self, index):\n",
    "        # 1. Read one data from file (e.g. using numpy.fromfile, PIL.Image.open).\n",
    "        # 2. Preprocess the data (e.g. torchvision.Transform).\n",
    "        # 3. Return a data pair (e.g. image and label).\n",
    "        return None\n",
    "    def __len__(self):\n",
    "        # return length of the dataset\n",
    "        return 0 # here 0 because there are no elements\n",
    "\n",
    "# You can then use the prebuilt data loader. \n",
    "custom_dataset = CustomDataset()\n",
    "custom_loader = torch.utils.data.DataLoader(\n",
    "    dataset=custom_dataset,\n",
    "    batch_size=64, \n",
    "    shuffle=True\n",
    ")"
   ]
  },
  {
   "cell_type": "code",
   "execution_count": 14,
   "metadata": {},
   "outputs": [
    {
     "name": "stdout",
     "output_type": "stream",
     "text": [
      "tensor([[0.4268, 0.4466, 0.0190],\n",
      "        [0.6959, 0.7932, 0.0326]], device='cuda:0', grad_fn=<AddmmBackward>)\n"
     ]
    }
   ],
   "source": [
    "# defining models\n",
    "\n",
    "class CustomModel(nn.Module):\n",
    "    def __init__(self):\n",
    "        super(CustomModel, self).__init__()\n",
    "        # 1. initialize all the model layers (eg: nn.Linear(), nn.Conv2d(),etc)\n",
    "        self.layer1 = nn.Linear(3, 3)\n",
    "\n",
    "    def forward(self, inp):\n",
    "        # 1. pass through the required layers and perform the necessary operations\n",
    "        # eg: out = self.layer1(x)\n",
    "        # return final output\n",
    "        out = self.layer1(inp)\n",
    "        return out\n",
    "\n",
    "model = CustomModel().to(device)\n",
    "inp = torch.randn((2, 3)).to(device)\n",
    "output = model(inp)\n",
    "print(output)"
   ]
  },
  {
   "cell_type": "code",
   "execution_count": 15,
   "metadata": {},
   "outputs": [
    {
     "data": {
      "text/plain": [
       "<All keys matched successfully>"
      ]
     },
     "execution_count": 15,
     "metadata": {},
     "output_type": "execute_result"
    }
   ],
   "source": [
    "# Save and load the entire model.\n",
    "torch.save(model.state_dict(), 'model.ckpt')\n",
    "model.load_state_dict(torch.load('model.ckpt'))"
   ]
  },
  {
   "cell_type": "markdown",
   "metadata": {},
   "source": [
    "## Linear regression (EXTREME OVERKILL CODE)"
   ]
  },
  {
   "cell_type": "code",
   "execution_count": 16,
   "metadata": {
    "scrolled": true
   },
   "outputs": [
    {
     "name": "stdout",
     "output_type": "stream",
     "text": [
      "Epoch [1/200], Loss: 176.0230\n",
      "Epoch [11/200], Loss: 118.9484\n",
      "Epoch [21/200], Loss: 118.9417\n",
      "Epoch [31/200], Loss: 118.9350\n",
      "Epoch [41/200], Loss: 118.9283\n",
      "Epoch [51/200], Loss: 118.9217\n",
      "Epoch [61/200], Loss: 118.9150\n",
      "Epoch [71/200], Loss: 118.9084\n",
      "Epoch [81/200], Loss: 118.9018\n",
      "Epoch [91/200], Loss: 118.8952\n",
      "Epoch [101/200], Loss: 118.8886\n",
      "Epoch [111/200], Loss: 118.8820\n",
      "Epoch [121/200], Loss: 118.8755\n",
      "Epoch [131/200], Loss: 118.8689\n",
      "Epoch [141/200], Loss: 118.8624\n",
      "Epoch [151/200], Loss: 118.8558\n",
      "Epoch [161/200], Loss: 118.8493\n",
      "Epoch [171/200], Loss: 118.8428\n",
      "Epoch [181/200], Loss: 118.8363\n",
      "Epoch [191/200], Loss: 118.8298\n"
     ]
    },
    {
     "data": {
      "image/png": "[encoded data removed]",
      "text/plain": [
       "<Figure size 432x288 with 1 Axes>"
      ]
     },
     "metadata": {
      "needs_background": "light"
     },
     "output_type": "display_data"
    }
   ],
   "source": [
    "# SUPER UNWANTEDLY LARGE LINEAR REGRESSION CODE (HOWEVER WILL GIVE U AN OVERALL IDEA SO YEAH)\n",
    "\n",
    "import torch\n",
    "import torch.nn as nn\n",
    "from torch.utils.data import Dataset, DataLoader\n",
    "import torch.optim as optim\n",
    "import numpy as np\n",
    "import matplotlib.pyplot as plt\n",
    "\n",
    "\n",
    "class XYSet(Dataset):\n",
    "    def __init__(self):\n",
    "        # toy dataset\n",
    "        data = np.genfromtxt(\"https://raw.githubusercontent.com/MukundVarmaT/PythonMLworkshop/master/data.csv\", delimiter=\",\")\n",
    "        self.x, self.y = data[:,[0]], data[:, [1]]\n",
    "    def __getitem__(self, indx):\n",
    "        return self.x[indx], self.y[indx]\n",
    "    def __len__(self):\n",
    "        return len(self.x)\n",
    "\n",
    "\n",
    "class LinReg(nn.Module):\n",
    "    def __init__(self):\n",
    "        super(LinReg, self).__init__()\n",
    "        self.layer = nn.Linear(1, 1)\n",
    "    def forward(self, x):\n",
    "        return self.layer(x)\n",
    "\n",
    "dset = XYSet()\n",
    "loader = DataLoader(dset, batch_size=8, num_workers=4)\n",
    "\n",
    "device = torch.device('cuda' if torch.cuda.is_available() else 'cpu')\n",
    "model = LinReg().to(device)\n",
    "optimizer = optim.SGD(model.parameters(), lr=0.0001)\n",
    "criterion = nn.MSELoss()\n",
    "\n",
    "# Train the model\n",
    "for epoch in range(200):\n",
    "    loss_cntr = []\n",
    "    for x, y in loader:\n",
    "        x, y = x.to(device).float(), y.to(device).float()\n",
    "        y_pred = model(x)\n",
    "        loss = criterion(y_pred, y)\n",
    "        \n",
    "        optimizer.zero_grad()\n",
    "        loss.backward()\n",
    "        optimizer.step()\n",
    "        loss_cntr.append(loss.item())\n",
    "    if epoch % 10 == 0:\n",
    "        print ('Epoch [{}/{}], Loss: {:.4f}'.format(epoch+1, 200, np.mean(loss_cntr)))\n",
    "\n",
    "# Plot the graph\n",
    "predicted = model(torch.from_numpy(dset.x).to(device).float()).cpu().detach().numpy()\n",
    "plt.plot(dset.x, dset.y, 'ro', label='Original data')\n",
    "plt.plot(dset.x, predicted, label='Fitted line')\n",
    "plt.legend()\n",
    "plt.show()\n",
    "\n",
    "# Save the model checkpoint\n",
    "torch.save(model.state_dict(), 'model.ckpt')\n"
   ]
  }
 ],
 "metadata": {
  "kernelspec": {
   "display_name": "Python 3",
   "language": "python",
   "name": "python3"
  },
  "language_info": {
   "codemirror_mode": {
    "name": "ipython",
    "version": 3
   },
   "file_extension": ".py",
   "mimetype": "text/x-python",
   "name": "python",
   "nbconvert_exporter": "python",
   "pygments_lexer": "ipython3",
   "version": "3.8.5"
  }
 },
 "nbformat": 4,
 "nbformat_minor": 4
}
